{
 "cells": [
  {
   "cell_type": "markdown",
   "metadata": {},
   "source": [
    "# Advent of Code - Day 1\n",
    "\n",
    "## Part 1"
   ]
  },
  {
   "cell_type": "code",
   "execution_count": 14,
   "metadata": {},
   "outputs": [
    {
     "data": {
      "text/plain": [
       "Total Fuel: 3420719"
      ]
     },
     "metadata": {},
     "output_type": "display_data"
    }
   ],
   "source": [
    "using System.IO;\n",
    "\n",
    "var lines = File.ReadLines(\"input.txt\");\n",
    "\n",
    "var totalFuel = lines.Select(line => {\n",
    "    var num = Int32.Parse(line);\n",
    "    return num / 3 - 2;\n",
    "}).Sum();\n",
    "\n",
    "display(\"Total Fuel: \" + totalFuel);"
   ]
  },
  {
   "cell_type": "markdown",
   "metadata": {},
   "source": [
    "## Part 2"
   ]
  },
  {
   "cell_type": "code",
   "execution_count": 13,
   "metadata": {},
   "outputs": [
    {
     "data": {
      "text/plain": [
       "Total Fuel's Fuel: 5128195"
      ]
     },
     "metadata": {},
     "output_type": "display_data"
    }
   ],
   "source": [
    "var totalFuelFuel = lines.Select(line => {\n",
    "    var total = 0;\n",
    "    var fuel = Int32.Parse(line) / 3 - 2;\n",
    "    while (fuel > 0) {\n",
    "        total += fuel;\n",
    "        fuel = fuel / 3 - 2;\n",
    "    }\n",
    "    return total;\n",
    "}).Sum();\n",
    "\n",
    "display(\"Total Fuel's Fuel: \" + totalFuelFuel);"
   ]
  }
 ],
 "metadata": {
  "kernelspec": {
   "display_name": ".NET (C#)",
   "language": "C#",
   "name": ".net-csharp"
  },
  "language_info": {
   "file_extension": ".cs",
   "mimetype": "text/x-csharp",
   "name": "C#",
   "pygments_lexer": "csharp",
   "version": "8.0"
  }
 },
 "nbformat": 4,
 "nbformat_minor": 4
}
